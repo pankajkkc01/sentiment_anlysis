{
  "nbformat": 4,
  "nbformat_minor": 0,
  "metadata": {
    "colab": {
      "provenance": []
    },
    "kernelspec": {
      "name": "python3",
      "display_name": "Python 3"
    },
    "language_info": {
      "name": "python"
    }
  },
  "cells": [
    {
      "cell_type": "code",
      "execution_count": null,
      "metadata": {
        "id": "dntUsTCq9OEu"
      },
      "outputs": [],
      "source": [
        "\n",
        "import pandas as pd\n",
        "import requests\n",
        "from bs4 import BeautifulSoup\n",
        "import nltk\n",
        "from nltk.tokenize import word_tokenize\n",
        "from nltk.corpus import stopwords\n"
      ]
    },
    {
      "cell_type": "code",
      "source": [
        "# Load positive and negative word lists\n",
        "positive_words_file = \"positive-words.txt\"\n",
        "negative_words_file = \"negative-words.txt\"\n"
      ],
      "metadata": {
        "id": "9jmQoY6S-06n"
      },
      "execution_count": null,
      "outputs": []
    },
    {
      "cell_type": "code",
      "source": [
        "# Function to load words from file\n",
        "def load_words(file):\n",
        "    with open(file, \"r\") as f:\n",
        "        words = f.read().splitlines()\n",
        "    return words\n"
      ],
      "metadata": {
        "id": "2J8_hZYE_Jjg"
      },
      "execution_count": null,
      "outputs": []
    },
    {
      "cell_type": "code",
      "source": [
        "positive_words_file = \"/content/drive/MyDrive/intern_assesement02/MasterDictionary/positive-words.txt\"\n",
        "negative_words_file = \"/content/drive/MyDrive/intern_assesement02/MasterDictionary/positive-words.txt\"\n",
        "\n",
        "positive_words = set(load_words(positive_words_file))\n",
        "negative_words = set(load_words(negative_words_file))"
      ],
      "metadata": {
        "id": "0jO5ZM4VFl3X"
      },
      "execution_count": null,
      "outputs": []
    },
    {
      "cell_type": "code",
      "source": [
        "# Load positive and negative words\n",
        "positive_words = set(load_words(positive_words_file))\n",
        "negative_words = set(load_words(negative_words_file))\n"
      ],
      "metadata": {
        "id": "BXtosnqp_LIC"
      },
      "execution_count": null,
      "outputs": []
    },
    {
      "cell_type": "code",
      "source": [
        "# URL of the website\n",
        "url = \"https://insights.blackcoffer.com/rising-it-cities-and-its-impact-on-the-economy-environment-infrastructure-and-city-life-by-the-year-2040-2/\"\n"
      ],
      "metadata": {
        "id": "iJVLH8wEGDb_"
      },
      "execution_count": null,
      "outputs": []
    },
    {
      "cell_type": "code",
      "source": [
        "# Get the HTML content of the website\n",
        "response = requests.get(url)\n",
        "soup = BeautifulSoup(response.text, \"html.parser\")\n"
      ],
      "metadata": {
        "id": "d_sti3-RGMf2"
      },
      "execution_count": null,
      "outputs": []
    },
    {
      "cell_type": "code",
      "source": [
        "# Extract text from the website\n",
        "text = soup.get_text()\n"
      ],
      "metadata": {
        "id": "qWMZ86pBGQ0n"
      },
      "execution_count": null,
      "outputs": []
    },
    {
      "cell_type": "code",
      "source": [
        "!pip install nltk"
      ],
      "metadata": {
        "colab": {
          "base_uri": "https://localhost:8080/"
        },
        "id": "cGQ5CheqHHvu",
        "outputId": "0e0ce622-e023-4a82-dbef-aaf8bc6dd850"
      },
      "execution_count": null,
      "outputs": [
        {
          "output_type": "stream",
          "name": "stdout",
          "text": [
            "Requirement already satisfied: nltk in /usr/local/lib/python3.10/dist-packages (3.8.1)\n",
            "Requirement already satisfied: click in /usr/local/lib/python3.10/dist-packages (from nltk) (8.1.7)\n",
            "Requirement already satisfied: joblib in /usr/local/lib/python3.10/dist-packages (from nltk) (1.4.2)\n",
            "Requirement already satisfied: regex>=2021.8.3 in /usr/local/lib/python3.10/dist-packages (from nltk) (2023.12.25)\n",
            "Requirement already satisfied: tqdm in /usr/local/lib/python3.10/dist-packages (from nltk) (4.66.4)\n"
          ]
        }
      ]
    },
    {
      "cell_type": "code",
      "source": [
        "import nltk\n",
        "nltk.download('punkt')"
      ],
      "metadata": {
        "colab": {
          "base_uri": "https://localhost:8080/"
        },
        "id": "ePVfrwXWHLAG",
        "outputId": "fbf29eee-ad67-44d0-f0cc-df816dcd58c3"
      },
      "execution_count": null,
      "outputs": [
        {
          "output_type": "stream",
          "name": "stderr",
          "text": [
            "[nltk_data] Downloading package punkt to /root/nltk_data...\n",
            "[nltk_data]   Unzipping tokenizers/punkt.zip.\n"
          ]
        },
        {
          "output_type": "execute_result",
          "data": {
            "text/plain": [
              "True"
            ]
          },
          "metadata": {},
          "execution_count": 39
        }
      ]
    },
    {
      "cell_type": "code",
      "source": [
        "# Tokenize the text\n",
        "tokens = word_tokenize(text)\n"
      ],
      "metadata": {
        "id": "wuHwffU1GWTC"
      },
      "execution_count": null,
      "outputs": []
    },
    {
      "cell_type": "code",
      "source": [
        "# Get English stop words\n",
        "stop_words_file = \"/content/drive/MyDrive/Copy of StopWords_Names.txt\"\n",
        "stop_words = set(load_words(stop_words_file))\n"
      ],
      "metadata": {
        "id": "CD1c7nxxI3Ec"
      },
      "execution_count": null,
      "outputs": []
    },
    {
      "cell_type": "code",
      "source": [
        "# Remove stop words from the tokens\n",
        "filtered_tokens = [word for word in tokens if word.lower() not in stop_words]\n"
      ],
      "metadata": {
        "id": "Qw1UUwMTJTRk"
      },
      "execution_count": null,
      "outputs": []
    },
    {
      "cell_type": "code",
      "source": [
        "# Initialize positive and negative score\n",
        "positive_score = 0\n",
        "negative_score = 0\n"
      ],
      "metadata": {
        "id": "V-Qlq_cCJb3S"
      },
      "execution_count": null,
      "outputs": []
    },
    {
      "cell_type": "code",
      "source": [
        "# Calculate positive and negative score\n",
        "for word in filtered_tokens:\n",
        "    if word.lower() in positive_words:\n",
        "        positive_score += 1\n",
        "    elif word.lower() in negative_words:\n",
        "        negative_score += 1\n"
      ],
      "metadata": {
        "id": "OldckIU_JiSm"
      },
      "execution_count": null,
      "outputs": []
    },
    {
      "cell_type": "code",
      "source": [
        "# Calculate polarity score\n",
        "polarity_score = (positive_score - negative_score) / ((positive_score + negative_score) + 0.000001)\n"
      ],
      "metadata": {
        "id": "0YZuPwD7JmH-"
      },
      "execution_count": null,
      "outputs": []
    },
    {
      "cell_type": "code",
      "source": [
        "# Calculate subjectivity score\n",
        "subjectivity_score = (positive_score + negative_score) / (len(filtered_tokens) + 0.000001)\n"
      ],
      "metadata": {
        "id": "qkK9z_VlJqe2"
      },
      "execution_count": null,
      "outputs": []
    },
    {
      "cell_type": "code",
      "source": [
        "print(\"Positive Score:\", positive_score)\n",
        "print(\"Negative Score:\", negative_score)\n",
        "print(\"Polarity Score:\", polarity_score)\n",
        "print(\"Subjectivity Score:\", subjectivity_score)\n"
      ],
      "metadata": {
        "colab": {
          "base_uri": "https://localhost:8080/"
        },
        "id": "DXN47l3_JtrM",
        "outputId": "ad9d8f08-f5aa-484b-dc43-9263ef4f05ff"
      },
      "execution_count": null,
      "outputs": [
        {
          "output_type": "stream",
          "name": "stdout",
          "text": [
            "Positive Score: 83\n",
            "Negative Score: 0\n",
            "Polarity Score: 0.9999999879518074\n",
            "Subjectivity Score: 0.03391908457951815\n"
          ]
        }
      ]
    }
  ]
}